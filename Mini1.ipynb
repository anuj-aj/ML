{
  "nbformat": 4,
  "nbformat_minor": 0,
  "metadata": {
    "colab": {
      "name": "Mini1.ipynb",
      "version": "0.3.2",
      "provenance": [],
      "collapsed_sections": []
    },
    "kernelspec": {
      "name": "python3",
      "display_name": "Python 3"
    }
  },
  "cells": [
    {
      "metadata": {
        "id": "Y9AYSs70FHgM",
        "colab_type": "code",
        "outputId": "9fede0d5-70b2-40d1-c5cb-b9d57e7c254c",
        "colab": {
          "base_uri": "https://localhost:8080/",
          "height": 34
        }
      },
      "cell_type": "code",
      "source": [
        "from google.colab import drive\n",
        "drive.mount('/content/gdrive')\n"
      ],
      "execution_count": 0,
      "outputs": [
        {
          "output_type": "stream",
          "text": [
            "Drive already mounted at /content/gdrive; to attempt to forcibly remount, call drive.mount(\"/content/gdrive\", force_remount=True).\n"
          ],
          "name": "stdout"
        }
      ]
    },
    {
      "metadata": {
        "id": "yhzmtyf-FUJs",
        "colab_type": "code",
        "colab": {}
      },
      "cell_type": "code",
      "source": [
        "\n",
        "from sklearn.model_selection import train_test_split\n",
        "from sklearn.preprocessing import MinMaxScaler\n",
        "import pandas as pd\n",
        "import matplotlib.pyplot as plt\n",
        "import seaborn as sns\n",
        "import tensorflow as tf\n",
        "from tensorflow.keras.models import Sequential\n",
        "from tensorflow.keras import layers\n",
        "from tensorflow.keras.layers import Dense\n",
        "from tensorflow.keras.layers import LSTM\n",
        "import numpy as np\n",
        "\n",
        "\n",
        "path =\"/content/gdrive/My Drive/google_trainset.csv\"\n",
        "df= pd.read_csv(path)\n"
      ],
      "execution_count": 0,
      "outputs": []
    },
    {
      "metadata": {
        "id": "FQy8D0J8FfFz",
        "colab_type": "code",
        "outputId": "e0e69dc6-5a20-43e3-9dbc-f6d3442011d9",
        "colab": {
          "base_uri": "https://localhost:8080/",
          "height": 1882
        }
      },
      "cell_type": "code",
      "source": [
        "\n",
        "train_data = df.iloc[:,1:2]\n",
        "train_data2=train_data\n",
        "train_data1=train_data\n",
        "train_data"
      ],
      "execution_count": 0,
      "outputs": [
        {
          "output_type": "execute_result",
          "data": {
            "text/html": [
              "<div>\n",
              "<style scoped>\n",
              "    .dataframe tbody tr th:only-of-type {\n",
              "        vertical-align: middle;\n",
              "    }\n",
              "\n",
              "    .dataframe tbody tr th {\n",
              "        vertical-align: top;\n",
              "    }\n",
              "\n",
              "    .dataframe thead th {\n",
              "        text-align: right;\n",
              "    }\n",
              "</style>\n",
              "<table border=\"1\" class=\"dataframe\">\n",
              "  <thead>\n",
              "    <tr style=\"text-align: right;\">\n",
              "      <th></th>\n",
              "      <th>Open</th>\n",
              "    </tr>\n",
              "  </thead>\n",
              "  <tbody>\n",
              "    <tr>\n",
              "      <th>0</th>\n",
              "      <td>357.385559</td>\n",
              "    </tr>\n",
              "    <tr>\n",
              "      <th>1</th>\n",
              "      <td>360.122742</td>\n",
              "    </tr>\n",
              "    <tr>\n",
              "      <th>2</th>\n",
              "      <td>362.313507</td>\n",
              "    </tr>\n",
              "    <tr>\n",
              "      <th>3</th>\n",
              "      <td>365.348755</td>\n",
              "    </tr>\n",
              "    <tr>\n",
              "      <th>4</th>\n",
              "      <td>365.393463</td>\n",
              "    </tr>\n",
              "    <tr>\n",
              "      <th>5</th>\n",
              "      <td>363.769043</td>\n",
              "    </tr>\n",
              "    <tr>\n",
              "      <th>6</th>\n",
              "      <td>369.014923</td>\n",
              "    </tr>\n",
              "    <tr>\n",
              "      <th>7</th>\n",
              "      <td>368.602600</td>\n",
              "    </tr>\n",
              "    <tr>\n",
              "      <th>8</th>\n",
              "      <td>366.118744</td>\n",
              "    </tr>\n",
              "    <tr>\n",
              "      <th>9</th>\n",
              "      <td>357.340851</td>\n",
              "    </tr>\n",
              "    <tr>\n",
              "      <th>10</th>\n",
              "      <td>358.865936</td>\n",
              "    </tr>\n",
              "    <tr>\n",
              "      <th>11</th>\n",
              "      <td>356.536072</td>\n",
              "    </tr>\n",
              "    <tr>\n",
              "      <th>12</th>\n",
              "      <td>352.884827</td>\n",
              "    </tr>\n",
              "    <tr>\n",
              "      <th>13</th>\n",
              "      <td>350.053253</td>\n",
              "    </tr>\n",
              "    <tr>\n",
              "      <th>14</th>\n",
              "      <td>365.617004</td>\n",
              "    </tr>\n",
              "    <tr>\n",
              "      <th>15</th>\n",
              "      <td>368.225037</td>\n",
              "    </tr>\n",
              "    <tr>\n",
              "      <th>16</th>\n",
              "      <td>372.959259</td>\n",
              "    </tr>\n",
              "    <tr>\n",
              "      <th>17</th>\n",
              "      <td>373.451050</td>\n",
              "    </tr>\n",
              "    <tr>\n",
              "      <th>18</th>\n",
              "      <td>370.962250</td>\n",
              "    </tr>\n",
              "    <tr>\n",
              "      <th>19</th>\n",
              "      <td>374.434662</td>\n",
              "    </tr>\n",
              "    <tr>\n",
              "      <th>20</th>\n",
              "      <td>372.830109</td>\n",
              "    </tr>\n",
              "    <tr>\n",
              "      <th>21</th>\n",
              "      <td>376.650238</td>\n",
              "    </tr>\n",
              "    <tr>\n",
              "      <th>22</th>\n",
              "      <td>381.364594</td>\n",
              "    </tr>\n",
              "    <tr>\n",
              "      <th>23</th>\n",
              "      <td>378.105774</td>\n",
              "    </tr>\n",
              "    <tr>\n",
              "      <th>24</th>\n",
              "      <td>377.082428</td>\n",
              "    </tr>\n",
              "    <tr>\n",
              "      <th>25</th>\n",
              "      <td>382.363098</td>\n",
              "    </tr>\n",
              "    <tr>\n",
              "      <th>26</th>\n",
              "      <td>387.544403</td>\n",
              "    </tr>\n",
              "    <tr>\n",
              "      <th>27</th>\n",
              "      <td>386.684998</td>\n",
              "    </tr>\n",
              "    <tr>\n",
              "      <th>28</th>\n",
              "      <td>388.349152</td>\n",
              "    </tr>\n",
              "    <tr>\n",
              "      <th>29</th>\n",
              "      <td>387.544403</td>\n",
              "    </tr>\n",
              "    <tr>\n",
              "      <th>...</th>\n",
              "      <td>...</td>\n",
              "    </tr>\n",
              "    <tr>\n",
              "      <th>1229</th>\n",
              "      <td>1022.520020</td>\n",
              "    </tr>\n",
              "    <tr>\n",
              "      <th>1230</th>\n",
              "      <td>1034.010010</td>\n",
              "    </tr>\n",
              "    <tr>\n",
              "      <th>1231</th>\n",
              "      <td>1020.260010</td>\n",
              "    </tr>\n",
              "    <tr>\n",
              "      <th>1232</th>\n",
              "      <td>1023.309998</td>\n",
              "    </tr>\n",
              "    <tr>\n",
              "      <th>1233</th>\n",
              "      <td>1035.000000</td>\n",
              "    </tr>\n",
              "    <tr>\n",
              "      <th>1234</th>\n",
              "      <td>1035.869995</td>\n",
              "    </tr>\n",
              "    <tr>\n",
              "      <th>1235</th>\n",
              "      <td>1040.000000</td>\n",
              "    </tr>\n",
              "    <tr>\n",
              "      <th>1236</th>\n",
              "      <td>1055.089966</td>\n",
              "    </tr>\n",
              "    <tr>\n",
              "      <th>1237</th>\n",
              "      <td>1042.680054</td>\n",
              "    </tr>\n",
              "    <tr>\n",
              "      <th>1238</th>\n",
              "      <td>1022.369995</td>\n",
              "    </tr>\n",
              "    <tr>\n",
              "      <th>1239</th>\n",
              "      <td>1015.799988</td>\n",
              "    </tr>\n",
              "    <tr>\n",
              "      <th>1240</th>\n",
              "      <td>1012.659973</td>\n",
              "    </tr>\n",
              "    <tr>\n",
              "      <th>1241</th>\n",
              "      <td>995.940002</td>\n",
              "    </tr>\n",
              "    <tr>\n",
              "      <th>1242</th>\n",
              "      <td>1001.500000</td>\n",
              "    </tr>\n",
              "    <tr>\n",
              "      <th>1243</th>\n",
              "      <td>1020.429993</td>\n",
              "    </tr>\n",
              "    <tr>\n",
              "      <th>1244</th>\n",
              "      <td>1037.489990</td>\n",
              "    </tr>\n",
              "    <tr>\n",
              "      <th>1245</th>\n",
              "      <td>1035.500000</td>\n",
              "    </tr>\n",
              "    <tr>\n",
              "      <th>1246</th>\n",
              "      <td>1039.630005</td>\n",
              "    </tr>\n",
              "    <tr>\n",
              "      <th>1247</th>\n",
              "      <td>1046.119995</td>\n",
              "    </tr>\n",
              "    <tr>\n",
              "      <th>1248</th>\n",
              "      <td>1045.000000</td>\n",
              "    </tr>\n",
              "    <tr>\n",
              "      <th>1249</th>\n",
              "      <td>1054.609985</td>\n",
              "    </tr>\n",
              "    <tr>\n",
              "      <th>1250</th>\n",
              "      <td>1066.079956</td>\n",
              "    </tr>\n",
              "    <tr>\n",
              "      <th>1251</th>\n",
              "      <td>1075.199951</td>\n",
              "    </tr>\n",
              "    <tr>\n",
              "      <th>1252</th>\n",
              "      <td>1071.780029</td>\n",
              "    </tr>\n",
              "    <tr>\n",
              "      <th>1253</th>\n",
              "      <td>1064.949951</td>\n",
              "    </tr>\n",
              "    <tr>\n",
              "      <th>1254</th>\n",
              "      <td>1061.109985</td>\n",
              "    </tr>\n",
              "    <tr>\n",
              "      <th>1255</th>\n",
              "      <td>1058.069946</td>\n",
              "    </tr>\n",
              "    <tr>\n",
              "      <th>1256</th>\n",
              "      <td>1057.390015</td>\n",
              "    </tr>\n",
              "    <tr>\n",
              "      <th>1257</th>\n",
              "      <td>1051.599976</td>\n",
              "    </tr>\n",
              "    <tr>\n",
              "      <th>1258</th>\n",
              "      <td>1046.719971</td>\n",
              "    </tr>\n",
              "  </tbody>\n",
              "</table>\n",
              "<p>1259 rows × 1 columns</p>\n",
              "</div>"
            ],
            "text/plain": [
              "             Open\n",
              "0      357.385559\n",
              "1      360.122742\n",
              "2      362.313507\n",
              "3      365.348755\n",
              "4      365.393463\n",
              "5      363.769043\n",
              "6      369.014923\n",
              "7      368.602600\n",
              "8      366.118744\n",
              "9      357.340851\n",
              "10     358.865936\n",
              "11     356.536072\n",
              "12     352.884827\n",
              "13     350.053253\n",
              "14     365.617004\n",
              "15     368.225037\n",
              "16     372.959259\n",
              "17     373.451050\n",
              "18     370.962250\n",
              "19     374.434662\n",
              "20     372.830109\n",
              "21     376.650238\n",
              "22     381.364594\n",
              "23     378.105774\n",
              "24     377.082428\n",
              "25     382.363098\n",
              "26     387.544403\n",
              "27     386.684998\n",
              "28     388.349152\n",
              "29     387.544403\n",
              "...           ...\n",
              "1229  1022.520020\n",
              "1230  1034.010010\n",
              "1231  1020.260010\n",
              "1232  1023.309998\n",
              "1233  1035.000000\n",
              "1234  1035.869995\n",
              "1235  1040.000000\n",
              "1236  1055.089966\n",
              "1237  1042.680054\n",
              "1238  1022.369995\n",
              "1239  1015.799988\n",
              "1240  1012.659973\n",
              "1241   995.940002\n",
              "1242  1001.500000\n",
              "1243  1020.429993\n",
              "1244  1037.489990\n",
              "1245  1035.500000\n",
              "1246  1039.630005\n",
              "1247  1046.119995\n",
              "1248  1045.000000\n",
              "1249  1054.609985\n",
              "1250  1066.079956\n",
              "1251  1075.199951\n",
              "1252  1071.780029\n",
              "1253  1064.949951\n",
              "1254  1061.109985\n",
              "1255  1058.069946\n",
              "1256  1057.390015\n",
              "1257  1051.599976\n",
              "1258  1046.719971\n",
              "\n",
              "[1259 rows x 1 columns]"
            ]
          },
          "metadata": {
            "tags": []
          },
          "execution_count": 110
        }
      ]
    },
    {
      "metadata": {
        "id": "fTlZEy4OIhKS",
        "colab_type": "code",
        "outputId": "18ec3d20-0d47-488e-9374-5429ac50b2bf",
        "colab": {
          "base_uri": "https://localhost:8080/",
          "height": 34
        }
      },
      "cell_type": "code",
      "source": [
        "train_data.shape"
      ],
      "execution_count": 0,
      "outputs": [
        {
          "output_type": "execute_result",
          "data": {
            "text/plain": [
              "(1259, 1)"
            ]
          },
          "metadata": {
            "tags": []
          },
          "execution_count": 111
        }
      ]
    },
    {
      "metadata": {
        "id": "XWE827ZsH_f5",
        "colab_type": "code",
        "outputId": "acfec6b7-9929-411b-ba53-e3e7f86c140d",
        "colab": {
          "base_uri": "https://localhost:8080/",
          "height": 134
        }
      },
      "cell_type": "code",
      "source": [
        "#converting into array\n",
        "train_data= df.iloc[:,1:2].values\n",
        "train_data"
      ],
      "execution_count": 0,
      "outputs": [
        {
          "output_type": "execute_result",
          "data": {
            "text/plain": [
              "array([[ 357.385559],\n",
              "       [ 360.122742],\n",
              "       [ 362.313507],\n",
              "       ...,\n",
              "       [1057.390015],\n",
              "       [1051.599976],\n",
              "       [1046.719971]])"
            ]
          },
          "metadata": {
            "tags": []
          },
          "execution_count": 112
        }
      ]
    },
    {
      "metadata": {
        "id": "wLo5A4PbJF9W",
        "colab_type": "code",
        "colab": {}
      },
      "cell_type": "code",
      "source": [
        "#applying feauture scaling \n",
        "sc = MinMaxScaler()\n",
        "\n",
        "train_data = sc.fit_transform(train_data)"
      ],
      "execution_count": 0,
      "outputs": []
    },
    {
      "metadata": {
        "id": "WSG6Z8HoJx9Y",
        "colab_type": "code",
        "outputId": "32d34cd5-fdd7-4115-a431-92218d5cbf60",
        "colab": {
          "base_uri": "https://localhost:8080/",
          "height": 134
        }
      },
      "cell_type": "code",
      "source": [
        "train_data\n"
      ],
      "execution_count": 0,
      "outputs": [
        {
          "output_type": "execute_result",
          "data": {
            "text/plain": [
              "array([[0.01011148],\n",
              "       [0.01388614],\n",
              "       [0.01690727],\n",
              "       ...,\n",
              "       [0.97543954],\n",
              "       [0.9674549 ],\n",
              "       [0.96072522]])"
            ]
          },
          "metadata": {
            "tags": []
          },
          "execution_count": 114
        }
      ]
    },
    {
      "metadata": {
        "id": "TlOfTpaXLAob",
        "colab_type": "code",
        "outputId": "b81aefc2-f63b-4c08-84c7-037b40a54295",
        "colab": {
          "base_uri": "https://localhost:8080/",
          "height": 34
        }
      },
      "cell_type": "code",
      "source": [
        "X_train_data = train_data[0:1257]\n",
        "Y_train_data = train_data[1:1258]\n",
        "X_train_data[0]"
      ],
      "execution_count": 0,
      "outputs": [
        {
          "output_type": "execute_result",
          "data": {
            "text/plain": [
              "array([0.01011148])"
            ]
          },
          "metadata": {
            "tags": []
          },
          "execution_count": 115
        }
      ]
    },
    {
      "metadata": {
        "id": "wdxo21GyLiyY",
        "colab_type": "code",
        "outputId": "4328f1f8-4264-4a65-f411-194c7f6f100f",
        "colab": {
          "base_uri": "https://localhost:8080/",
          "height": 67
        }
      },
      "cell_type": "code",
      "source": [
        "X_train_data= np.reshape(X_train_data, (1257, 1, 1))\n",
        "#list conversion not possible\n",
        "X_train_data[0:2]"
      ],
      "execution_count": 0,
      "outputs": [
        {
          "output_type": "execute_result",
          "data": {
            "text/plain": [
              "array([[[0.01011148]],\n",
              "\n",
              "       [[0.01388614]]])"
            ]
          },
          "metadata": {
            "tags": []
          },
          "execution_count": 116
        }
      ]
    },
    {
      "metadata": {
        "id": "ZNnMhAcxMUvd",
        "colab_type": "code",
        "colab": {}
      },
      "cell_type": "code",
      "source": [
        "regressor = Sequential()\n",
        "#rnn model\n",
        "regressor.add(LSTM(units=10,activation='tanh',input_shape=(None,1)))\n",
        "regressor.add(Dense(units=1))\n",
        "#used adam optimizer...  check for other\n",
        "regressor.compile(optimizer='adam' ,loss='mean_squared_error')"
      ],
      "execution_count": 0,
      "outputs": []
    },
    {
      "metadata": {
        "id": "3LOy0OmENxAk",
        "colab_type": "code",
        "outputId": "8e6f40be-a283-45f7-a098-5a2b40b007db",
        "colab": {
          "base_uri": "https://localhost:8080/",
          "height": 1714
        }
      },
      "cell_type": "code",
      "source": [
        "#training   data\n",
        "bs=30\n",
        "calls=50\n",
        "regressor.fit(X_train_data,Y_train_data, batch_size = bs, epochs = calls)"
      ],
      "execution_count": 0,
      "outputs": [
        {
          "output_type": "stream",
          "text": [
            "Epoch 1/50\n",
            "1257/1257 [==============================] - 2s 2ms/sample - loss: 0.1528\n",
            "Epoch 2/50\n",
            "1257/1257 [==============================] - 0s 77us/sample - loss: 0.0816\n",
            "Epoch 3/50\n",
            "1257/1257 [==============================] - 0s 78us/sample - loss: 0.0401\n",
            "Epoch 4/50\n",
            "1257/1257 [==============================] - 0s 79us/sample - loss: 0.0245\n",
            "Epoch 5/50\n",
            "1257/1257 [==============================] - 0s 82us/sample - loss: 0.0202\n",
            "Epoch 6/50\n",
            "1257/1257 [==============================] - 0s 81us/sample - loss: 0.0176\n",
            "Epoch 7/50\n",
            "1257/1257 [==============================] - 0s 78us/sample - loss: 0.0151\n",
            "Epoch 8/50\n",
            "1257/1257 [==============================] - 0s 78us/sample - loss: 0.0127\n",
            "Epoch 9/50\n",
            "1257/1257 [==============================] - 0s 84us/sample - loss: 0.0104\n",
            "Epoch 10/50\n",
            "1257/1257 [==============================] - 0s 77us/sample - loss: 0.0082\n",
            "Epoch 11/50\n",
            "1257/1257 [==============================] - 0s 80us/sample - loss: 0.0063\n",
            "Epoch 12/50\n",
            "1257/1257 [==============================] - 0s 79us/sample - loss: 0.0047\n",
            "Epoch 13/50\n",
            "1257/1257 [==============================] - 0s 84us/sample - loss: 0.0034\n",
            "Epoch 14/50\n",
            "1257/1257 [==============================] - 0s 76us/sample - loss: 0.0024\n",
            "Epoch 15/50\n",
            "1257/1257 [==============================] - 0s 75us/sample - loss: 0.0016\n",
            "Epoch 16/50\n",
            "1257/1257 [==============================] - 0s 80us/sample - loss: 0.0011\n",
            "Epoch 17/50\n",
            "1257/1257 [==============================] - 0s 78us/sample - loss: 7.6100e-04\n",
            "Epoch 18/50\n",
            "1257/1257 [==============================] - 0s 80us/sample - loss: 5.5166e-04\n",
            "Epoch 19/50\n",
            "1257/1257 [==============================] - 0s 75us/sample - loss: 4.3094e-04\n",
            "Epoch 20/50\n",
            "1257/1257 [==============================] - 0s 80us/sample - loss: 3.6415e-04\n",
            "Epoch 21/50\n",
            "1257/1257 [==============================] - 0s 79us/sample - loss: 3.2879e-04\n",
            "Epoch 22/50\n",
            "1257/1257 [==============================] - 0s 82us/sample - loss: 3.0994e-04\n",
            "Epoch 23/50\n",
            "1257/1257 [==============================] - 0s 79us/sample - loss: 3.0023e-04\n",
            "Epoch 24/50\n",
            "1257/1257 [==============================] - 0s 81us/sample - loss: 2.9576e-04\n",
            "Epoch 25/50\n",
            "1257/1257 [==============================] - 0s 84us/sample - loss: 2.9258e-04\n",
            "Epoch 26/50\n",
            "1257/1257 [==============================] - 0s 79us/sample - loss: 2.8992e-04\n",
            "Epoch 27/50\n",
            "1257/1257 [==============================] - 0s 81us/sample - loss: 2.8975e-04\n",
            "Epoch 28/50\n",
            "1257/1257 [==============================] - 0s 79us/sample - loss: 2.8836e-04\n",
            "Epoch 29/50\n",
            "1257/1257 [==============================] - 0s 78us/sample - loss: 2.8545e-04\n",
            "Epoch 30/50\n",
            "1257/1257 [==============================] - 0s 74us/sample - loss: 2.8592e-04\n",
            "Epoch 31/50\n",
            "1257/1257 [==============================] - 0s 78us/sample - loss: 2.8352e-04\n",
            "Epoch 32/50\n",
            "1257/1257 [==============================] - 0s 82us/sample - loss: 2.8055e-04\n",
            "Epoch 33/50\n",
            "1257/1257 [==============================] - 0s 81us/sample - loss: 2.7830e-04\n",
            "Epoch 34/50\n",
            "1257/1257 [==============================] - 0s 83us/sample - loss: 2.7749e-04\n",
            "Epoch 35/50\n",
            "1257/1257 [==============================] - 0s 80us/sample - loss: 2.7508e-04\n",
            "Epoch 36/50\n",
            "1257/1257 [==============================] - 0s 80us/sample - loss: 2.7275e-04\n",
            "Epoch 37/50\n",
            "1257/1257 [==============================] - 0s 78us/sample - loss: 2.7121e-04\n",
            "Epoch 38/50\n",
            "1257/1257 [==============================] - 0s 80us/sample - loss: 2.7078e-04\n",
            "Epoch 39/50\n",
            "1257/1257 [==============================] - 0s 82us/sample - loss: 2.6782e-04\n",
            "Epoch 40/50\n",
            "1257/1257 [==============================] - 0s 78us/sample - loss: 2.6547e-04\n",
            "Epoch 41/50\n",
            "1257/1257 [==============================] - 0s 79us/sample - loss: 2.6405e-04\n",
            "Epoch 42/50\n",
            "1257/1257 [==============================] - 0s 79us/sample - loss: 2.6157e-04\n",
            "Epoch 43/50\n",
            "1257/1257 [==============================] - 0s 79us/sample - loss: 2.5963e-04\n",
            "Epoch 44/50\n",
            "1257/1257 [==============================] - 0s 78us/sample - loss: 2.6082e-04\n",
            "Epoch 45/50\n",
            "1257/1257 [==============================] - 0s 84us/sample - loss: 2.5794e-04\n",
            "Epoch 46/50\n",
            "1257/1257 [==============================] - 0s 78us/sample - loss: 2.5346e-04\n",
            "Epoch 47/50\n",
            "1257/1257 [==============================] - 0s 78us/sample - loss: 2.5149e-04\n",
            "Epoch 48/50\n",
            "1257/1257 [==============================] - 0s 82us/sample - loss: 2.5024e-04\n",
            "Epoch 49/50\n",
            "1257/1257 [==============================] - 0s 78us/sample - loss: 2.4713e-04\n",
            "Epoch 50/50\n",
            "1257/1257 [==============================] - 0s 76us/sample - loss: 2.4612e-04\n"
          ],
          "name": "stdout"
        },
        {
          "output_type": "execute_result",
          "data": {
            "text/plain": [
              "<tensorflow.python.keras.callbacks.History at 0x7f43c247cfd0>"
            ]
          },
          "metadata": {
            "tags": []
          },
          "execution_count": 118
        }
      ]
    },
    {
      "metadata": {
        "id": "gi57jgHGSB7L",
        "colab_type": "code",
        "outputId": "4537383f-5ef2-40a6-8c16-a4eb86d51dec",
        "colab": {
          "base_uri": "https://localhost:8080/",
          "height": 2117
        }
      },
      "cell_type": "code",
      "source": [
        "path2 =\"/content/gdrive/My Drive/google_testset.csv\"\n",
        "df2= pd.read_csv(path2)\n",
        "df2.iloc[:,1:2].values\n",
        "#array conversion\n",
        "test_data = df2.iloc[:,1:2].values\n",
        "\n",
        "test_data"
      ],
      "execution_count": 0,
      "outputs": [
        {
          "output_type": "execute_result",
          "data": {
            "text/plain": [
              "array([[1048.339966],\n",
              "       [1064.310059],\n",
              "       [1088.      ],\n",
              "       [1094.      ],\n",
              "       [1102.22998 ],\n",
              "       [1109.400024],\n",
              "       [1097.099976],\n",
              "       [1106.300049],\n",
              "       [1102.410034],\n",
              "       [1132.51001 ],\n",
              "       [1126.219971],\n",
              "       [1131.410034],\n",
              "       [1131.829956],\n",
              "       [1137.48999 ],\n",
              "       [1159.849976],\n",
              "       [1177.329956],\n",
              "       [1172.530029],\n",
              "       [1175.079956],\n",
              "       [1176.47998 ],\n",
              "       [1167.829956],\n",
              "       [1170.569946],\n",
              "       [1162.609985],\n",
              "       [1122.      ],\n",
              "       [1090.599976],\n",
              "       [1027.180054],\n",
              "       [1081.540039],\n",
              "       [1055.410034],\n",
              "       [1017.25    ],\n",
              "       [1048.      ],\n",
              "       [1045.      ],\n",
              "       [1048.949951],\n",
              "       [1079.069946],\n",
              "       [1088.410034],\n",
              "       [1090.569946],\n",
              "       [1106.469971],\n",
              "       [1116.189941],\n",
              "       [1112.640015],\n",
              "       [1127.800049],\n",
              "       [1141.23999 ],\n",
              "       [1123.030029],\n",
              "       [1107.869995],\n",
              "       [1053.079956],\n",
              "       [1075.140015],\n",
              "       [1099.219971],\n",
              "       [1089.189941],\n",
              "       [1115.319946],\n",
              "       [1136.      ],\n",
              "       [1163.849976],\n",
              "       [1170.      ],\n",
              "       [1145.209961],\n",
              "       [1149.959961],\n",
              "       [1154.140015],\n",
              "       [1120.01001 ],\n",
              "       [1099.      ],\n",
              "       [1092.73999 ],\n",
              "       [1081.880005],\n",
              "       [1047.030029],\n",
              "       [1046.      ],\n",
              "       [1063.      ],\n",
              "       [ 998.      ],\n",
              "       [1011.630005],\n",
              "       [1022.820007],\n",
              "       [1013.909973],\n",
              "       [ 993.409973],\n",
              "       [1041.329956],\n",
              "       [1020.      ],\n",
              "       [1016.799988],\n",
              "       [1026.439941],\n",
              "       [1027.98999 ],\n",
              "       [1025.040039],\n",
              "       [1040.880005],\n",
              "       [1037.      ],\n",
              "       [1051.369995],\n",
              "       [1077.430054],\n",
              "       [1069.400024],\n",
              "       [1082.      ],\n",
              "       [1077.859985],\n",
              "       [1052.      ],\n",
              "       [1025.52002 ],\n",
              "       [1029.51001 ],\n",
              "       [1046.      ],\n",
              "       [1030.01001 ],\n",
              "       [1013.659973],\n",
              "       [1028.099976],\n",
              "       [1019.      ],\n",
              "       [1016.900024],\n",
              "       [1049.22998 ],\n",
              "       [1058.540039],\n",
              "       [1058.099976],\n",
              "       [1086.030029],\n",
              "       [1093.599976],\n",
              "       [1100.      ],\n",
              "       [1090.      ],\n",
              "       [1077.310059],\n",
              "       [1079.890015],\n",
              "       [1061.859985],\n",
              "       [1074.060059],\n",
              "       [1083.560059],\n",
              "       [1065.130005],\n",
              "       [1079.      ],\n",
              "       [1079.02002 ],\n",
              "       [1064.890015],\n",
              "       [1063.030029],\n",
              "       [1067.560059],\n",
              "       [1099.349976],\n",
              "       [1122.329956],\n",
              "       [1140.98999 ],\n",
              "       [1142.170044],\n",
              "       [1131.319946],\n",
              "       [1118.180054],\n",
              "       [1118.599976],\n",
              "       [1131.069946],\n",
              "       [1141.119995],\n",
              "       [1143.849976],\n",
              "       [1148.859985],\n",
              "       [1143.650024],\n",
              "       [1158.5     ],\n",
              "       [1175.310059],\n",
              "       [1174.849976],\n",
              "       [1159.140015],\n",
              "       [1143.599976],\n",
              "       [1128.      ],\n",
              "       [1121.339966],\n",
              "       [1102.089966],\n",
              "       [1120.      ]])"
            ]
          },
          "metadata": {
            "tags": []
          },
          "execution_count": 119
        }
      ]
    },
    {
      "metadata": {
        "id": "oka5R-WTN5o-",
        "colab_type": "code",
        "outputId": "3b5229ca-b6c2-4287-9378-f75c065e8d5d",
        "colab": {
          "base_uri": "https://localhost:8080/",
          "height": 2117
        }
      },
      "cell_type": "code",
      "source": [
        "#adjusting test data in model\n",
        "input_layer = test_data\n",
        "input_layer=(input_layer)\n",
        "input_layer= sc.transform(input_layer)\n",
        "input_layer=np.reshape(input_layer,(125, 1, 1))\n",
        "predicted = regressor.predict(input_layer)\n",
        "predicted = sc.inverse_transform(predicted)\n",
        "predicted"
      ],
      "execution_count": 0,
      "outputs": [
        {
          "output_type": "execute_result",
          "data": {
            "text/plain": [
              "array([[1066.357  ],\n",
              "       [1084.0581 ],\n",
              "       [1110.3707 ],\n",
              "       [1117.0443 ],\n",
              "       [1126.2036 ],\n",
              "       [1134.1884 ],\n",
              "       [1120.4935 ],\n",
              "       [1130.7356 ],\n",
              "       [1126.404  ],\n",
              "       [1159.9523 ],\n",
              "       [1152.9359 ],\n",
              "       [1158.7251 ],\n",
              "       [1159.1936 ],\n",
              "       [1165.5092 ],\n",
              "       [1190.4775 ],\n",
              "       [1210.0138 ],\n",
              "       [1204.648  ],\n",
              "       [1207.4984 ],\n",
              "       [1209.0635 ],\n",
              "       [1199.3948 ],\n",
              "       [1202.457  ],\n",
              "       [1193.5615 ],\n",
              "       [1148.2303 ],\n",
              "       [1113.2621 ],\n",
              "       [1042.9557 ],\n",
              "       [1103.1895 ],\n",
              "       [1074.1895 ],\n",
              "       [1031.9962 ],\n",
              "       [1065.9807 ],\n",
              "       [1062.6593 ],\n",
              "       [1067.0326 ],\n",
              "       [1100.445  ],\n",
              "       [1110.8265 ],\n",
              "       [1113.2286 ],\n",
              "       [1130.9249 ],\n",
              "       [1141.7538 ],\n",
              "       [1137.7979 ],\n",
              "       [1154.6982 ],\n",
              "       [1169.6946 ],\n",
              "       [1149.3788 ],\n",
              "       [1132.4841 ],\n",
              "       [1071.6075 ],\n",
              "       [1096.0793 ],\n",
              "       [1122.8529 ],\n",
              "       [1111.6938 ],\n",
              "       [1140.7842 ],\n",
              "       [1163.8464 ],\n",
              "       [1194.9469 ],\n",
              "       [1201.8201 ],\n",
              "       [1174.1267 ],\n",
              "       [1179.4304 ],\n",
              "       [1184.099  ],\n",
              "       [1146.0118 ],\n",
              "       [1122.6082 ],\n",
              "       [1115.6425 ],\n",
              "       [1103.5674 ],\n",
              "       [1064.9066 ],\n",
              "       [1063.7662 ],\n",
              "       [1082.605  ],\n",
              "       [1010.79517],\n",
              "       [1025.8003 ],\n",
              "       [1038.1418 ],\n",
              "       [1028.3134 ],\n",
              "       [1005.74896],\n",
              "       [1058.5977 ],\n",
              "       [1035.0299 ],\n",
              "       [1031.4999 ],\n",
              "       [1042.1383 ],\n",
              "       [1043.8503 ],\n",
              "       [1040.5927 ],\n",
              "       [1058.0999 ],\n",
              "       [1053.8081 ],\n",
              "       [1069.7131 ],\n",
              "       [1098.623  ],\n",
              "       [1089.7064 ],\n",
              "       [1103.7007 ],\n",
              "       [1099.1006 ],\n",
              "       [1070.411  ],\n",
              "       [1041.1227 ],\n",
              "       [1045.5294 ],\n",
              "       [1063.7662 ],\n",
              "       [1046.0819 ],\n",
              "       [1028.0377 ],\n",
              "       [1043.9718 ],\n",
              "       [1033.9266 ],\n",
              "       [1031.6102 ],\n",
              "       [1067.3428 ],\n",
              "       [1077.6592 ],\n",
              "       [1077.1713 ],\n",
              "       [1108.1803 ],\n",
              "       [1116.5991 ],\n",
              "       [1123.7212 ],\n",
              "       [1112.5947 ],\n",
              "       [1098.4897 ],\n",
              "       [1101.356  ],\n",
              "       [1081.3406 ],\n",
              "       [1094.88   ],\n",
              "       [1105.4346 ],\n",
              "       [1084.9679 ],\n",
              "       [1100.3672 ],\n",
              "       [1100.3894 ],\n",
              "       [1084.7015 ],\n",
              "       [1082.6383 ],\n",
              "       [1087.6642 ],\n",
              "       [1122.9976 ],\n",
              "       [1148.5981 ],\n",
              "       [1169.4156 ],\n",
              "       [1170.7328 ],\n",
              "       [1158.6246 ],\n",
              "       [1143.9718 ],\n",
              "       [1144.44   ],\n",
              "       [1158.3457 ],\n",
              "       [1169.5607 ],\n",
              "       [1172.6082 ],\n",
              "       [1178.2021 ],\n",
              "       [1172.385  ],\n",
              "       [1188.9694 ],\n",
              "       [1207.7556 ],\n",
              "       [1207.2413 ],\n",
              "       [1189.6844 ],\n",
              "       [1172.3291 ],\n",
              "       [1154.9211 ],\n",
              "       [1147.4944 ],\n",
              "       [1126.0477 ],\n",
              "       [1146.0006 ]], dtype=float32)"
            ]
          },
          "metadata": {
            "tags": []
          },
          "execution_count": 120
        }
      ]
    },
    {
      "metadata": {
        "id": "AkfmbbKIDf_s",
        "colab_type": "code",
        "outputId": "9580d8eb-3223-45de-e24a-5be50d32f5bf",
        "colab": {
          "base_uri": "https://localhost:8080/",
          "height": 195
        }
      },
      "cell_type": "code",
      "source": [
        "df.head()"
      ],
      "execution_count": 0,
      "outputs": [
        {
          "output_type": "execute_result",
          "data": {
            "text/html": [
              "<div>\n",
              "<style scoped>\n",
              "    .dataframe tbody tr th:only-of-type {\n",
              "        vertical-align: middle;\n",
              "    }\n",
              "\n",
              "    .dataframe tbody tr th {\n",
              "        vertical-align: top;\n",
              "    }\n",
              "\n",
              "    .dataframe thead th {\n",
              "        text-align: right;\n",
              "    }\n",
              "</style>\n",
              "<table border=\"1\" class=\"dataframe\">\n",
              "  <thead>\n",
              "    <tr style=\"text-align: right;\">\n",
              "      <th></th>\n",
              "      <th>Date</th>\n",
              "      <th>Open</th>\n",
              "      <th>High</th>\n",
              "      <th>Low</th>\n",
              "      <th>Close</th>\n",
              "      <th>Adj Close</th>\n",
              "      <th>Volume</th>\n",
              "    </tr>\n",
              "  </thead>\n",
              "  <tbody>\n",
              "    <tr>\n",
              "      <th>0</th>\n",
              "      <td>2013-01-02</td>\n",
              "      <td>357.385559</td>\n",
              "      <td>361.151062</td>\n",
              "      <td>355.959839</td>\n",
              "      <td>359.288177</td>\n",
              "      <td>359.288177</td>\n",
              "      <td>5115500</td>\n",
              "    </tr>\n",
              "    <tr>\n",
              "      <th>1</th>\n",
              "      <td>2013-01-03</td>\n",
              "      <td>360.122742</td>\n",
              "      <td>363.600128</td>\n",
              "      <td>358.031342</td>\n",
              "      <td>359.496826</td>\n",
              "      <td>359.496826</td>\n",
              "      <td>4666500</td>\n",
              "    </tr>\n",
              "    <tr>\n",
              "      <th>2</th>\n",
              "      <td>2013-01-04</td>\n",
              "      <td>362.313507</td>\n",
              "      <td>368.339294</td>\n",
              "      <td>361.488861</td>\n",
              "      <td>366.600616</td>\n",
              "      <td>366.600616</td>\n",
              "      <td>5562800</td>\n",
              "    </tr>\n",
              "    <tr>\n",
              "      <th>3</th>\n",
              "      <td>2013-01-07</td>\n",
              "      <td>365.348755</td>\n",
              "      <td>367.301056</td>\n",
              "      <td>362.929504</td>\n",
              "      <td>365.001007</td>\n",
              "      <td>365.001007</td>\n",
              "      <td>3332900</td>\n",
              "    </tr>\n",
              "    <tr>\n",
              "      <th>4</th>\n",
              "      <td>2013-01-08</td>\n",
              "      <td>365.393463</td>\n",
              "      <td>365.771027</td>\n",
              "      <td>359.874359</td>\n",
              "      <td>364.280701</td>\n",
              "      <td>364.280701</td>\n",
              "      <td>3373900</td>\n",
              "    </tr>\n",
              "  </tbody>\n",
              "</table>\n",
              "</div>"
            ],
            "text/plain": [
              "         Date        Open        High         Low       Close   Adj Close  \\\n",
              "0  2013-01-02  357.385559  361.151062  355.959839  359.288177  359.288177   \n",
              "1  2013-01-03  360.122742  363.600128  358.031342  359.496826  359.496826   \n",
              "2  2013-01-04  362.313507  368.339294  361.488861  366.600616  366.600616   \n",
              "3  2013-01-07  365.348755  367.301056  362.929504  365.001007  365.001007   \n",
              "4  2013-01-08  365.393463  365.771027  359.874359  364.280701  364.280701   \n",
              "\n",
              "    Volume  \n",
              "0  5115500  \n",
              "1  4666500  \n",
              "2  5562800  \n",
              "3  3332900  \n",
              "4  3373900  "
            ]
          },
          "metadata": {
            "tags": []
          },
          "execution_count": 121
        }
      ]
    },
    {
      "metadata": {
        "id": "yH50bxtVQGQX",
        "colab_type": "code",
        "outputId": "c711ffc5-149e-4eaa-fec0-3524d3f807e8",
        "colab": {
          "base_uri": "https://localhost:8080/",
          "height": 454
        }
      },
      "cell_type": "code",
      "source": [
        "\n",
        "\n",
        "#visualiuzing rnn\n",
        "\n",
        "\n",
        "input_layer=np.reshape(input_layer,(125))\n",
        "\n",
        "predicted=np.reshape(predicted,(125))\n",
        "predicted"
      ],
      "execution_count": 0,
      "outputs": [
        {
          "output_type": "execute_result",
          "data": {
            "text/plain": [
              "array([1066.357  , 1084.0581 , 1110.3707 , 1117.0443 , 1126.2036 ,\n",
              "       1134.1884 , 1120.4935 , 1130.7356 , 1126.404  , 1159.9523 ,\n",
              "       1152.9359 , 1158.7251 , 1159.1936 , 1165.5092 , 1190.4775 ,\n",
              "       1210.0138 , 1204.648  , 1207.4984 , 1209.0635 , 1199.3948 ,\n",
              "       1202.457  , 1193.5615 , 1148.2303 , 1113.2621 , 1042.9557 ,\n",
              "       1103.1895 , 1074.1895 , 1031.9962 , 1065.9807 , 1062.6593 ,\n",
              "       1067.0326 , 1100.445  , 1110.8265 , 1113.2286 , 1130.9249 ,\n",
              "       1141.7538 , 1137.7979 , 1154.6982 , 1169.6946 , 1149.3788 ,\n",
              "       1132.4841 , 1071.6075 , 1096.0793 , 1122.8529 , 1111.6938 ,\n",
              "       1140.7842 , 1163.8464 , 1194.9469 , 1201.8201 , 1174.1267 ,\n",
              "       1179.4304 , 1184.099  , 1146.0118 , 1122.6082 , 1115.6425 ,\n",
              "       1103.5674 , 1064.9066 , 1063.7662 , 1082.605  , 1010.79517,\n",
              "       1025.8003 , 1038.1418 , 1028.3134 , 1005.74896, 1058.5977 ,\n",
              "       1035.0299 , 1031.4999 , 1042.1383 , 1043.8503 , 1040.5927 ,\n",
              "       1058.0999 , 1053.8081 , 1069.7131 , 1098.623  , 1089.7064 ,\n",
              "       1103.7007 , 1099.1006 , 1070.411  , 1041.1227 , 1045.5294 ,\n",
              "       1063.7662 , 1046.0819 , 1028.0377 , 1043.9718 , 1033.9266 ,\n",
              "       1031.6102 , 1067.3428 , 1077.6592 , 1077.1713 , 1108.1803 ,\n",
              "       1116.5991 , 1123.7212 , 1112.5947 , 1098.4897 , 1101.356  ,\n",
              "       1081.3406 , 1094.88   , 1105.4346 , 1084.9679 , 1100.3672 ,\n",
              "       1100.3894 , 1084.7015 , 1082.6383 , 1087.6642 , 1122.9976 ,\n",
              "       1148.5981 , 1169.4156 , 1170.7328 , 1158.6246 , 1143.9718 ,\n",
              "       1144.44   , 1158.3457 , 1169.5607 , 1172.6082 , 1178.2021 ,\n",
              "       1172.385  , 1188.9694 , 1207.7556 , 1207.2413 , 1189.6844 ,\n",
              "       1172.3291 , 1154.9211 , 1147.4944 , 1126.0477 , 1146.0006 ],\n",
              "      dtype=float32)"
            ]
          },
          "metadata": {
            "tags": []
          },
          "execution_count": 122
        }
      ]
    },
    {
      "metadata": {
        "id": "9TH4L-A8AoE0",
        "colab_type": "code",
        "outputId": "5d54eb97-3e65-4e01-92fe-caf57a4e11c6",
        "colab": {
          "base_uri": "https://localhost:8080/",
          "height": 376
        }
      },
      "cell_type": "code",
      "source": [
        "plt.plot(test_data,color='black',label='Actual')\n",
        "plt.plot(predicted,color='red',label='Our Prediction')\n",
        "plt.title('Stock Price Actual VS Our Prediction')\n",
        "plt.xlabel('Time')\n",
        "plt.ylabel('Stock Price')\n",
        "plt.legend()\n",
        "plt.show()"
      ],
      "execution_count": 0,
      "outputs": [
        {
          "output_type": "display_data",
          "data": {
            "image/png": "[encoded data removed]",
            "text/plain": [
              "<Figure size 576x396 with 1 Axes>"
            ]
          },
          "metadata": {
            "tags": []
          }
        }
      ]
    },
    {
      "metadata": {
        "id": "tsYHVW016xn0",
        "colab_type": "code",
        "outputId": "54cc2499-c314-4d83-8e75-634d0cc2cf2a",
        "colab": {
          "base_uri": "https://localhost:8080/",
          "height": 34
        }
      },
      "cell_type": "code",
      "source": [
        "def cost( test_data1, predicted1):\n",
        "    \n",
        "\n",
        "    test = (((test_data1- predicted1)**2).sum()/125)**0.5\n",
        "    return  test\n",
        "\n",
        "\n",
        "cost( test_data1, predicted1)"
      ],
      "execution_count": 0,
      "outputs": [
        {
          "output_type": "execute_result",
          "data": {
            "text/plain": [
              "18.428883302429405"
            ]
          },
          "metadata": {
            "tags": []
          },
          "execution_count": 124
        }
      ]
    },
    {
      "metadata": {
        "id": "x0PJtigw8nIX",
        "colab_type": "code",
        "outputId": "9af73507-ab2d-4f50-98fe-2a76e3cf54db",
        "colab": {
          "base_uri": "https://localhost:8080/",
          "height": 34
        }
      },
      "cell_type": "code",
      "source": [
        "def accuracy( test_data1, predicted1):\n",
        "    \n",
        "\n",
        "    test = (((( predicted1-test_data1))/(test_data1)*125).sum())\n",
        "    return  test\n",
        "\n",
        "\n",
        "accuracy( test_data1, predicted1)"
      ],
      "execution_count": 0,
      "outputs": [
        {
          "output_type": "execute_result",
          "data": {
            "text/plain": [
              "253.47837752170798"
            ]
          },
          "metadata": {
            "tags": []
          },
          "execution_count": 125
        }
      ]
    },
    {
      "metadata": {
        "id": "zmgJopfxQDhg",
        "colab_type": "code",
        "outputId": "ba1bdc63-f32c-4844-da3e-203bf770bd33",
        "colab": {
          "base_uri": "https://localhost:8080/",
          "height": 34
        }
      },
      "cell_type": "code",
      "source": [
        "test_data1=np.reshape(test_data,(125))\n",
        "predicted1=np.reshape(predicted,(125))\n",
        "test_data1.shape"
      ],
      "execution_count": 0,
      "outputs": [
        {
          "output_type": "execute_result",
          "data": {
            "text/plain": [
              "(125,)"
            ]
          },
          "metadata": {
            "tags": []
          },
          "execution_count": 126
        }
      ]
    }
  ]
}