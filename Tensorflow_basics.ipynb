{
  "nbformat": 4,
  "nbformat_minor": 0,
  "metadata": {
    "colab": {
      "name": "Tensorflow_basics.ipynb",
      "version": "0.3.2",
      "provenance": [],
      "collapsed_sections": []
    },
    "kernelspec": {
      "name": "python3",
      "display_name": "Python 3"
    }
  },
  "cells": [
    {
      "metadata": {
        "id": "ElFDjo1_pX_w",
        "colab_type": "code",
        "colab": {}
      },
      "cell_type": "code",
      "source": [
        "import tensorflow as tf\n",
        "\n",
        "\n"
      ],
      "execution_count": 0,
      "outputs": []
    },
    {
      "metadata": {
        "id": "Dph0cf_Fq64Z",
        "colab_type": "code",
        "colab": {
          "base_uri": "https://localhost:8080/",
          "height": 34
        },
        "outputId": "b29fa0a0-ab40-42cf-d0ee-d4b8ee93c6ef"
      },
      "cell_type": "code",
      "source": [
        "a=tf.constant(2)\n",
        "b=tf.constant(3)\n",
        "sess=tf.Session()\n",
        "sess.run(b)\n",
        "a1=tf.constant([[3,3]])\n",
        "a2=tf.constant([[2],[2]])\n",
        "c=tf.matmul(a1,a2)\n",
        "\n",
        "with tf.Session() as sess:\n",
        "  print(c.eval())"
      ],
      "execution_count": 15,
      "outputs": [
        {
          "output_type": "stream",
          "text": [
            "[[12]]\n"
          ],
          "name": "stdout"
        }
      ]
    },
    {
      "metadata": {
        "id": "l2P_k_Nbu2Dp",
        "colab_type": "code",
        "colab": {}
      },
      "cell_type": "code",
      "source": [
        "var1=tf.variable(100)\n",
        "var2=tf.variable(200)\n",
        "sum=tf.add(var1,var2)\n"
      ],
      "execution_count": 0,
      "outputs": []
    }
  ]
}