{
  "nbformat": 4,
  "nbformat_minor": 0,
  "metadata": {
    "colab": {
      "name": "Tensorflow_basics.ipynb",
      "version": "0.3.2",
      "provenance": [],
      "collapsed_sections": []
    },
    "kernelspec": {
      "name": "python3",
      "display_name": "Python 3"
    }
  },
  "cells": [
    {
      "metadata": {
        "id": "ElFDjo1_pX_w",
        "colab_type": "code",
        "colab": {}
      },
      "cell_type": "code",
      "source": [
        "import tensorflow as tf\n",
        "\n",
        "\n"
      ],
      "execution_count": 0,
      "outputs": []
    },
    {
      "metadata": {
        "id": "Dph0cf_Fq64Z",
        "colab_type": "code",
        "colab": {
          "base_uri": "https://localhost:8080/",
          "height": 50
        },
        "outputId": "463e0c1e-337a-45e3-cd7f-f341162f709d"
      },
      "cell_type": "code",
      "source": [
        "a=tf.constant(2)\n",
        "b=tf.constant(3)\n",
        "sess=tf.Session()\n",
        "sess.run(b)\n",
        "a1=tf.constant([[3,3]])\n",
        "a2=tf.constant([[2],[2]])\n",
        "c=tf.matmul(a1,a2)\n",
        "\n",
        "with tf.Session() as sess:\n",
        "  print(c.eval())\n",
        "  \n",
        "var1=tf.Variable(3)\n",
        "var2=tf.Variable(4)\n",
        "sum=tf.add(var1,var2)\n",
        "sess= tf.Session() \n",
        "sess.run(tf.global_variables_initializer())\n",
        "sess.run(sum)  \n",
        "sess.run(var1.assign(123))  \n",
        "sess.run(var1.assign(123))\n",
        "\n",
        "\n",
        "x=tf.placeholder(tf.int32,shape=(1,2))\n",
        "y=tf.constant(12)*x\n",
        "sess.run(y,feed_dict=({x:[[2,3]]}))"
      ],
      "execution_count": 8,
      "outputs": [
        {
          "output_type": "stream",
          "text": [
            "[[12]]\n"
          ],
          "name": "stdout"
        },
        {
          "output_type": "execute_result",
          "data": {
            "text/plain": [
              "array([[24, 36]], dtype=int32)"
            ]
          },
          "metadata": {
            "tags": []
          },
          "execution_count": 8
        }
      ]
    },
    {
      "metadata": {
        "id": "l2P_k_Nbu2Dp",
        "colab_type": "code",
        "colab": {}
      },
      "cell_type": "code",
      "source": [
        ""
      ],
      "execution_count": 0,
      "outputs": []
    }
  ]
}