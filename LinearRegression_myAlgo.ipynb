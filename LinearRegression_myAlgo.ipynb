{
 "cells": [
  {
   "cell_type": "code",
   "execution_count": 1,
   "metadata": {
    "collapsed": true
   },
   "outputs": [],
   "source": [
    "import numpy as np\n",
    "data=np.loadtxt(\"C:\\\\Users\\\\hp\\\\data.csv\",delimiter=\",\")\n",
    "x=data[:,0].reshape(-1,1)\n",
    "y=data[:,1]\n"
   ]
  },
  {
   "cell_type": "code",
   "execution_count": 2,
   "metadata": {
    "collapsed": true
   },
   "outputs": [],
   "source": [
    "from sklearn import model_selection\n",
    "x_train,x_test,y_train,y_test=model_selection.train_test_split(x,y)"
   ]
  },
  {
   "cell_type": "code",
   "execution_count": 3,
   "metadata": {
    "collapsed": true
   },
   "outputs": [],
   "source": [
    "def fit(x_train,y_train):\n",
    "    num=(x_train*y_train).mean()-x_train.mean()*y_train.mean()\n",
    "    denom=((x_train**2).mean())-(x_train.mean()**2)\n",
    "    m=num/denom\n",
    "    c=y_train.mean()-(m*x_train.mean())\n",
    "    return m,c\n",
    "\n"
   ]
  },
  {
   "cell_type": "code",
   "execution_count": 12,
   "metadata": {
    "collapsed": true
   },
   "outputs": [],
   "source": [
    "def predict(m,x,c):\n",
    "    return m*x+c"
   ]
  },
  {
   "cell_type": "code",
   "execution_count": 13,
   "metadata": {
    "collapsed": true
   },
   "outputs": [],
   "source": [
    "def score(y_true,y_pred):\n",
    "    u=((y_true-y_pred)**2).sum()\n",
    "    v=((y_true-(y_true.mean()))**2).sum()\n",
    "    return 1-(u/v)\n",
    "    "
   ]
  },
  {
   "cell_type": "code",
   "execution_count": 14,
   "metadata": {
    "collapsed": true
   },
   "outputs": [],
   "source": [
    "def cost(m,c,x,y):\n",
    "    return ((y-(m*x)-c)**2).mean()"
   ]
  },
  {
   "cell_type": "code",
   "execution_count": 15,
   "metadata": {},
   "outputs": [
    {
     "name": "stdout",
     "output_type": "stream",
     "text": [
      "test score :  -24.1066477873\n",
      "train score :  -74.0\n",
      "m c :  -4.47052222853e-15 72.9746332908\n",
      "train cost :  294.301512894\n",
      "test cost :  216.206082615\n"
     ]
    }
   ],
   "source": [
    "m,c=fit(x_train,y_train)\n",
    "y_train_pred=predict(m,x_train,c)\n",
    "y_test_pred=predict(m,x_test,c)\n",
    "algscore_train=score(y_train,y_train_pred)\n",
    "algscore_test=score(y_test,y_test_pred)\n",
    "train_cost=cost(m,c,x_train,y_train)\n",
    "test_cost=cost(m,c,x_test,y_test)\n",
    "print(\"test score : \",algscore_test)\n",
    "print(\"train score : \",algscore_train)\n",
    "print(\"m c : \",m,c)\n",
    "print(\"train cost : \",train_cost)\n",
    "print(\"test cost : \",test_cost)"
   ]
  },
  {
   "cell_type": "code",
   "execution_count": 11,
   "metadata": {},
   "outputs": [
    {
     "data": {
      "text/plain": [
       "0.61323412697866597"
      ]
     },
     "execution_count": 11,
     "metadata": {},
     "output_type": "execute_result"
    }
   ],
   "source": [
    "from sklearn.linear_model import LinearRegression\n",
    "alg1=LinearRegression()\n",
    "a=alg1.fit(x_train,y_train)\n",
    "alg1.score(x_train,y_train)"
   ]
  }
 ],
 "metadata": {
  "kernelspec": {
   "display_name": "Python 3",
   "language": "python",
   "name": "python3"
  },
  "language_info": {
   "codemirror_mode": {
    "name": "ipython",
    "version": 3
   },
   "file_extension": ".py",
   "mimetype": "text/x-python",
   "name": "python",
   "nbconvert_exporter": "python",
   "pygments_lexer": "ipython3",
   "version": "3.6.3"
  }
 },
 "nbformat": 4,
 "nbformat_minor": 2
}
