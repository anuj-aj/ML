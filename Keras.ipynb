{
  "nbformat": 4,
  "nbformat_minor": 0,
  "metadata": {
    "colab": {
      "name": "Keras.ipynb",
      "version": "0.3.2",
      "provenance": [],
      "collapsed_sections": []
    },
    "kernelspec": {
      "name": "python3",
      "display_name": "Python 3"
    }
  },
  "cells": [
    {
      "metadata": {
        "id": "vSxSY7XpVroh",
        "colab_type": "code",
        "colab": {}
      },
      "cell_type": "code",
      "source": [
        "from keras.models import Sequential\n",
        "from keras.layers import Dense\n",
        "\n"
      ],
      "execution_count": 0,
      "outputs": []
    },
    {
      "metadata": {
        "id": "aQMqd5pwcVze",
        "colab_type": "code",
        "colab": {}
      },
      "cell_type": "code",
      "source": [
        "model=Sequential()"
      ],
      "execution_count": 0,
      "outputs": []
    },
    {
      "metadata": {
        "id": "oX6vgac3b0G3",
        "colab_type": "code",
        "colab": {}
      },
      "cell_type": "code",
      "source": [
        "layer1=Dense(units=32,activation='relu',input_dim=30)\n",
        "model.add(layer1)\n",
        "model.add(Dense(units=16,activation='relu'))\n",
        "model.add(Dense(units=1,activation='sigmoid'))\n"
      ],
      "execution_count": 0,
      "outputs": []
    },
    {
      "metadata": {
        "id": "478pxOwDcarS",
        "colab_type": "code",
        "colab": {}
      },
      "cell_type": "code",
      "source": [
        "model.compile(optimizer='adam',loss='binary_crossentropy',metrics=['accuracy'])\n",
        "\n"
      ],
      "execution_count": 0,
      "outputs": []
    },
    {
      "metadata": {
        "id": "PKm2I6aSdFW2",
        "colab_type": "code",
        "colab": {
          "base_uri": "https://localhost:8080/",
          "height": 1394
        },
        "outputId": "6737c8c9-c45b-4faa-88ca-98dddb6c24ef"
      },
      "cell_type": "code",
      "source": [
        "from sklearn import datasets\n",
        "cancer=datasets.load_breast_cancer()\n",
        "from sklearn.model_selection import train_test_split\n",
        "x_train,x_test,y_train,y_test=train_test_split(cancer.data,cancer.target,test_size=0.8)\n",
        "from sklearn.preprocessing import StandardScaler\n",
        "sc=StandardScaler()\n",
        "x_train=sc.fit_transform(x_train)\n",
        "x_test=sc.transform(x_test)\n",
        "model.fit(x_train,y_train,epochs=40,batch_size=50,validation_data=(x_test,y_test))"
      ],
      "execution_count": 16,
      "outputs": [
        {
          "output_type": "stream",
          "text": [
            "Train on 113 samples, validate on 456 samples\n",
            "Epoch 1/40\n",
            "113/113 [==============================] - 0s 2ms/step - loss: 0.5787 - acc: 0.8761 - val_loss: 0.5628 - val_acc: 0.8355\n",
            "Epoch 2/40\n",
            "113/113 [==============================] - 0s 180us/step - loss: 0.5427 - acc: 0.8938 - val_loss: 0.5346 - val_acc: 0.8684\n",
            "Epoch 3/40\n",
            "113/113 [==============================] - 0s 154us/step - loss: 0.5107 - acc: 0.9204 - val_loss: 0.5076 - val_acc: 0.8816\n",
            "Epoch 4/40\n",
            "113/113 [==============================] - 0s 152us/step - loss: 0.4786 - acc: 0.9469 - val_loss: 0.4818 - val_acc: 0.8925\n",
            "Epoch 5/40\n",
            "113/113 [==============================] - 0s 151us/step - loss: 0.4499 - acc: 0.9469 - val_loss: 0.4570 - val_acc: 0.8969\n",
            "Epoch 6/40\n",
            "113/113 [==============================] - 0s 164us/step - loss: 0.4217 - acc: 0.9469 - val_loss: 0.4332 - val_acc: 0.9057\n",
            "Epoch 7/40\n",
            "113/113 [==============================] - 0s 166us/step - loss: 0.3940 - acc: 0.9558 - val_loss: 0.4100 - val_acc: 0.9079\n",
            "Epoch 8/40\n",
            "113/113 [==============================] - 0s 154us/step - loss: 0.3689 - acc: 0.9646 - val_loss: 0.3877 - val_acc: 0.9101\n",
            "Epoch 9/40\n",
            "113/113 [==============================] - 0s 153us/step - loss: 0.3440 - acc: 0.9646 - val_loss: 0.3668 - val_acc: 0.9123\n",
            "Epoch 10/40\n",
            "113/113 [==============================] - 0s 162us/step - loss: 0.3211 - acc: 0.9646 - val_loss: 0.3472 - val_acc: 0.9123\n",
            "Epoch 11/40\n",
            "113/113 [==============================] - 0s 160us/step - loss: 0.2985 - acc: 0.9646 - val_loss: 0.3291 - val_acc: 0.9211\n",
            "Epoch 12/40\n",
            "113/113 [==============================] - 0s 166us/step - loss: 0.2782 - acc: 0.9646 - val_loss: 0.3120 - val_acc: 0.9232\n",
            "Epoch 13/40\n",
            "113/113 [==============================] - 0s 160us/step - loss: 0.2587 - acc: 0.9646 - val_loss: 0.2959 - val_acc: 0.9211\n",
            "Epoch 14/40\n",
            "113/113 [==============================] - 0s 170us/step - loss: 0.2410 - acc: 0.9735 - val_loss: 0.2810 - val_acc: 0.9232\n",
            "Epoch 15/40\n",
            "113/113 [==============================] - 0s 180us/step - loss: 0.2247 - acc: 0.9735 - val_loss: 0.2675 - val_acc: 0.9232\n",
            "Epoch 16/40\n",
            "113/113 [==============================] - 0s 212us/step - loss: 0.2096 - acc: 0.9646 - val_loss: 0.2553 - val_acc: 0.9254\n",
            "Epoch 17/40\n",
            "113/113 [==============================] - 0s 192us/step - loss: 0.1957 - acc: 0.9646 - val_loss: 0.2442 - val_acc: 0.9298\n",
            "Epoch 18/40\n",
            "113/113 [==============================] - 0s 223us/step - loss: 0.1834 - acc: 0.9735 - val_loss: 0.2340 - val_acc: 0.9320\n",
            "Epoch 19/40\n",
            "113/113 [==============================] - 0s 154us/step - loss: 0.1721 - acc: 0.9735 - val_loss: 0.2248 - val_acc: 0.9320\n",
            "Epoch 20/40\n",
            "113/113 [==============================] - 0s 162us/step - loss: 0.1621 - acc: 0.9823 - val_loss: 0.2165 - val_acc: 0.9364\n",
            "Epoch 21/40\n",
            "113/113 [==============================] - 0s 184us/step - loss: 0.1528 - acc: 0.9735 - val_loss: 0.2089 - val_acc: 0.9408\n",
            "Epoch 22/40\n",
            "113/113 [==============================] - 0s 191us/step - loss: 0.1444 - acc: 0.9735 - val_loss: 0.2021 - val_acc: 0.9408\n",
            "Epoch 23/40\n",
            "113/113 [==============================] - 0s 178us/step - loss: 0.1368 - acc: 0.9646 - val_loss: 0.1960 - val_acc: 0.9408\n",
            "Epoch 24/40\n",
            "113/113 [==============================] - 0s 162us/step - loss: 0.1301 - acc: 0.9646 - val_loss: 0.1905 - val_acc: 0.9430\n",
            "Epoch 25/40\n",
            "113/113 [==============================] - 0s 171us/step - loss: 0.1238 - acc: 0.9646 - val_loss: 0.1855 - val_acc: 0.9452\n",
            "Epoch 26/40\n",
            "113/113 [==============================] - 0s 166us/step - loss: 0.1180 - acc: 0.9646 - val_loss: 0.1809 - val_acc: 0.9474\n",
            "Epoch 27/40\n",
            "113/113 [==============================] - 0s 201us/step - loss: 0.1129 - acc: 0.9646 - val_loss: 0.1769 - val_acc: 0.9474\n",
            "Epoch 28/40\n",
            "113/113 [==============================] - 0s 157us/step - loss: 0.1082 - acc: 0.9646 - val_loss: 0.1734 - val_acc: 0.9474\n",
            "Epoch 29/40\n",
            "113/113 [==============================] - 0s 161us/step - loss: 0.1038 - acc: 0.9646 - val_loss: 0.1703 - val_acc: 0.9474\n",
            "Epoch 30/40\n",
            "113/113 [==============================] - 0s 162us/step - loss: 0.0999 - acc: 0.9646 - val_loss: 0.1673 - val_acc: 0.9452\n",
            "Epoch 31/40\n",
            "113/113 [==============================] - 0s 164us/step - loss: 0.0960 - acc: 0.9735 - val_loss: 0.1646 - val_acc: 0.9452\n",
            "Epoch 32/40\n",
            "113/113 [==============================] - 0s 166us/step - loss: 0.0926 - acc: 0.9735 - val_loss: 0.1619 - val_acc: 0.9452\n",
            "Epoch 33/40\n",
            "113/113 [==============================] - 0s 169us/step - loss: 0.0892 - acc: 0.9823 - val_loss: 0.1595 - val_acc: 0.9452\n",
            "Epoch 34/40\n",
            "113/113 [==============================] - 0s 159us/step - loss: 0.0862 - acc: 0.9823 - val_loss: 0.1574 - val_acc: 0.9430\n",
            "Epoch 35/40\n",
            "113/113 [==============================] - 0s 169us/step - loss: 0.0834 - acc: 0.9823 - val_loss: 0.1556 - val_acc: 0.9452\n",
            "Epoch 36/40\n",
            "113/113 [==============================] - 0s 161us/step - loss: 0.0806 - acc: 0.9823 - val_loss: 0.1539 - val_acc: 0.9452\n",
            "Epoch 37/40\n",
            "113/113 [==============================] - 0s 191us/step - loss: 0.0781 - acc: 0.9912 - val_loss: 0.1523 - val_acc: 0.9452\n",
            "Epoch 38/40\n",
            "113/113 [==============================] - 0s 174us/step - loss: 0.0756 - acc: 0.9912 - val_loss: 0.1502 - val_acc: 0.9452\n",
            "Epoch 39/40\n",
            "113/113 [==============================] - 0s 199us/step - loss: 0.0729 - acc: 0.9912 - val_loss: 0.1487 - val_acc: 0.9474\n",
            "Epoch 40/40\n",
            "113/113 [==============================] - 0s 157us/step - loss: 0.0707 - acc: 0.9912 - val_loss: 0.1471 - val_acc: 0.9474\n"
          ],
          "name": "stdout"
        },
        {
          "output_type": "execute_result",
          "data": {
            "text/plain": [
              "<keras.callbacks.History at 0x7fcf79cdb9e8>"
            ]
          },
          "metadata": {
            "tags": []
          },
          "execution_count": 16
        }
      ]
    },
    {
      "metadata": {
        "id": "VreVEroEg-D6",
        "colab_type": "code",
        "colab": {
          "base_uri": "https://localhost:8080/",
          "height": 50
        },
        "outputId": "a69ec69b-4e7c-4df4-aae5-4461c50b6a00"
      },
      "cell_type": "code",
      "source": [
        "predns=model.predict(x_test)\n",
        "score=model.evaluate(x_test,y_test)\n",
        "score"
      ],
      "execution_count": 20,
      "outputs": [
        {
          "output_type": "stream",
          "text": [
            "456/456 [==============================] - 0s 35us/step\n"
          ],
          "name": "stdout"
        },
        {
          "output_type": "execute_result",
          "data": {
            "text/plain": [
              "[0.1471443632454203, 0.9473684210526315]"
            ]
          },
          "metadata": {
            "tags": []
          },
          "execution_count": 20
        }
      ]
    }
  ]
}